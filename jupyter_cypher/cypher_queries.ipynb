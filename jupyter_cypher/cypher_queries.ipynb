{
 "cells": [
  {
   "cell_type": "markdown",
   "metadata": {},
   "source": [
    "Install Python to read the environment variables from a .env file"
   ]
  },
  {
   "cell_type": "code",
   "execution_count": 1,
   "metadata": {},
   "outputs": [
    {
     "name": "stdout",
     "output_type": "stream",
     "text": [
      "Requirement already satisfied: python-dotenv in /Users/faaiz/code/lca_project/testProject/mytestvenv/lib/python3.9/site-packages (1.0.1)\n",
      "\n",
      "\u001b[1m[\u001b[0m\u001b[34;49mnotice\u001b[0m\u001b[1;39;49m]\u001b[0m\u001b[39;49m A new release of pip is available: \u001b[0m\u001b[31;49m23.0.1\u001b[0m\u001b[39;49m -> \u001b[0m\u001b[32;49m24.0\u001b[0m\n",
      "\u001b[1m[\u001b[0m\u001b[34;49mnotice\u001b[0m\u001b[1;39;49m]\u001b[0m\u001b[39;49m To update, run: \u001b[0m\u001b[32;49mpip install --upgrade pip\u001b[0m\n"
     ]
    }
   ],
   "source": [
    "! pip install python-dotenv"
   ]
  },
  {
   "cell_type": "markdown",
   "metadata": {},
   "source": [
    "Install Neo4j driver"
   ]
  },
  {
   "cell_type": "code",
   "execution_count": 2,
   "metadata": {},
   "outputs": [
    {
     "name": "stdout",
     "output_type": "stream",
     "text": [
      "Requirement already satisfied: neo4j in /Users/faaiz/code/lca_project/testProject/mytestvenv/lib/python3.9/site-packages (5.15.0)\n",
      "Requirement already satisfied: pytz in /Users/faaiz/code/lca_project/testProject/mytestvenv/lib/python3.9/site-packages (from neo4j) (2024.1)\n",
      "\n",
      "\u001b[1m[\u001b[0m\u001b[34;49mnotice\u001b[0m\u001b[1;39;49m]\u001b[0m\u001b[39;49m A new release of pip is available: \u001b[0m\u001b[31;49m23.0.1\u001b[0m\u001b[39;49m -> \u001b[0m\u001b[32;49m24.0\u001b[0m\n",
      "\u001b[1m[\u001b[0m\u001b[34;49mnotice\u001b[0m\u001b[1;39;49m]\u001b[0m\u001b[39;49m To update, run: \u001b[0m\u001b[32;49mpip install --upgrade pip\u001b[0m\n"
     ]
    }
   ],
   "source": [
    "! pip install neo4j"
   ]
  },
  {
   "cell_type": "markdown",
   "metadata": {},
   "source": [
    "Load `.env` variables"
   ]
  },
  {
   "cell_type": "code",
   "execution_count": 3,
   "metadata": {},
   "outputs": [],
   "source": [
    "import os\n",
    "from dotenv import load_dotenv\n",
    "from neo4j import GraphDatabase\n",
    "\n",
    "load_dotenv()\n",
    "uri = os.getenv(\"NEO4J_URI\")\n",
    "user = os.getenv(\"NEO4J_USER\")\n",
    "password = os.getenv(\"NEO4J_PASSWORD\")"
   ]
  },
  {
   "cell_type": "markdown",
   "metadata": {},
   "source": [
    "Create driver and define `execute_query()` method"
   ]
  },
  {
   "cell_type": "code",
   "execution_count": 4,
   "metadata": {},
   "outputs": [],
   "source": [
    "driver = GraphDatabase.driver(uri, auth=(user, password))\n",
    "def execute_query(query):\n",
    "    with driver.session() as session:\n",
    "        results = session.run(query)\n",
    "        return [record for record in results]"
   ]
  },
  {
   "cell_type": "markdown",
   "metadata": {},
   "source": [
    "##### Q1: Given an artist, return tracks"
   ]
  },
  {
   "cell_type": "code",
   "execution_count": 5,
   "metadata": {},
   "outputs": [
    {
     "name": "stdout",
     "output_type": "stream",
     "text": [
      "Q1 Results: [<Record TrackName='See What the Lord Has Done'>]\n"
     ]
    }
   ],
   "source": [
    "q1_query = \"\"\"\n",
    "MATCH (track:Track)-[:COMPOSED_BY]->(artist:Artist {name: 'Nathaniel Bassey'})\n",
    "RETURN track.name AS TrackName\n",
    "\"\"\"\n",
    "q1_results = execute_query(q1_query)\n",
    "print(\"Q1 Results:\", q1_results)"
   ]
  },
  {
   "cell_type": "markdown",
   "metadata": {},
   "source": [
    "![](../docs/images/Q1.png)"
   ]
  },
  {
   "cell_type": "markdown",
   "metadata": {},
   "source": [
    "##### Q2: Given a list of artists, return tracks sorted by the occurrence at album level"
   ]
  },
  {
   "cell_type": "code",
   "execution_count": 6,
   "metadata": {},
   "outputs": [
    {
     "name": "stdout",
     "output_type": "stream",
     "text": [
      "\n",
      "Q2 Results: [<Record TrackName='Sweet Talker' Album='Sugar Sweet' artistsCount=3>, <Record TrackName='Sur Le Fil' Album='Sur Le Fil' artistsCount=1>, <Record TrackName=\"Walkin'\" Album='Reflections' artistsCount=1>]\n"
     ]
    }
   ],
   "source": [
    "q2_query = \"\"\"\n",
    "MATCH (artist:Artist)<-[:COMPOSED_BY]-(track:Track)-[:PART_OF]->(album:Album)\n",
    "WHERE artist.name IN ['Jenifer', 'Jessie J', 'Frank Morgan']\n",
    "WITH album, COUNT(DISTINCT artist) AS artistsCount\n",
    "ORDER BY artistsCount DESC\n",
    "MATCH (album)-[:PART_OF]-(track:Track)\n",
    "RETURN track.name AS TrackName, album.name AS Album ,artistsCount\n",
    "\"\"\"\n",
    "q2_results = execute_query(q2_query)\n",
    "print(\"\\nQ2 Results:\", q2_results)"
   ]
  },
  {
   "cell_type": "markdown",
   "metadata": {},
   "source": [
    "![](../docs/images/Q2.png)"
   ]
  },
  {
   "cell_type": "markdown",
   "metadata": {},
   "source": [
    "##### Q3: Given a set of tracks, return artists based on similarity at metadata level"
   ]
  },
  {
   "cell_type": "code",
   "execution_count": 7,
   "metadata": {},
   "outputs": [
    {
     "name": "stdout",
     "output_type": "stream",
     "text": [
      "Q3 Results: [<Record ArtistName='The Staple Singers'>, <Record ArtistName='Todd Warren'>, <Record ArtistName='Enstrümantal'>, <Record ArtistName='JuJu Song'>, <Record ArtistName='Nathaniel Bassey'>, <Record ArtistName='Hillsong en Español, Hillsong Young & Free'>, <Record ArtistName='Sterling Roberts'>, <Record ArtistName='Mark Bishop'>, <Record ArtistName='Dr Tumi'>, <Record ArtistName='Stan Whitmire'>, <Record ArtistName='BarlowGirl'>, <Record ArtistName='Barbara Jones'>]\n"
     ]
    }
   ],
   "source": [
    "q3_query = \"\"\"\n",
    "MATCH (track:Track)-[:HAS_GENRE]->(genre:Genre)<-[:HAS_GENRE]-(similarTrack:Track),\n",
    "      (similarTrack)-[:COMPOSED_BY]->(artist:Artist)\n",
    "WHERE track.name IN ['See What the Lord Has Done', 'Sing Your Blues Away']\n",
    "RETURN DISTINCT artist.name AS ArtistName\n",
    "\"\"\"\n",
    "q3_results = execute_query(q3_query)\n",
    "print(\"Q3 Results:\", q3_results)"
   ]
  },
  {
   "cell_type": "markdown",
   "metadata": {},
   "source": [
    "![](../docs/images/Q3.png)"
   ]
  },
  {
   "cell_type": "markdown",
   "metadata": {},
   "source": [
    "##### Q4: Given a track return other tracks (from the same artist and/or similar artists that come from spotify_related_artists_ids)\n",
    "\n",
    "This is a two step query. \n",
    "1. First we need to find the artist having more than one track \n",
    "2. For similar, we need to create another query\n"
   ]
  },
  {
   "cell_type": "markdown",
   "metadata": {},
   "source": [
    "Q4.1: Find other tracks by the same artist"
   ]
  },
  {
   "cell_type": "code",
   "execution_count": 8,
   "metadata": {},
   "outputs": [
    {
     "name": "stdout",
     "output_type": "stream",
     "text": [
      "Q Results: [<Record ArtistName='Cerrone, The Reflex' TrackName='Look for Love - The Reflex Revision - Edit'>, <Record ArtistName='Cerrone, The Reflex' TrackName='Diskette - The Reflex Re-Vision Long Version'>, <Record ArtistName='Eric Milnes, Monika Mauch, Harry Van Der Kamp, Franziska Gottwald, Charles Daniels, Montréal Baroque, Johann Sebastian Bach' TrackName='Mein Gott, wie lang, ach lange, BWV 155: Aria: Du musst glauben, du musst hoffen (Alto, Tenor)'>, <Record ArtistName='Eric Milnes, Monika Mauch, Harry Van Der Kamp, Franziska Gottwald, Charles Daniels, Montréal Baroque, Johann Sebastian Bach' TrackName='Suite française No. 4 in E-Flat Major, BWV 815: IV. Gavotte'>, <Record ArtistName='Eric Milnes, Monika Mauch, Harry Van Der Kamp, Franziska Gottwald, Charles Daniels, Montréal Baroque, Johann Sebastian Bach' TrackName='Lute Suite in E Minor, BWV 996 (Arr. J. Williams for Guitar): VI. Gigue'>, <Record ArtistName='Eric Milnes, Monika Mauch, Harry Van Der Kamp, Franziska Gottwald, Charles Daniels, Montréal Baroque, Johann Sebastian Bach' TrackName='Mein Gott, wie lang, ach lange, BWV 155: Aria: Du musst glauben, du musst hoffen (Alto, Tenor)'>, <Record ArtistName='Eric Milnes, Monika Mauch, Harry Van Der Kamp, Franziska Gottwald, Charles Daniels, Montréal Baroque, Johann Sebastian Bach' TrackName='Suite française No. 4 in E-Flat Major, BWV 815: IV. Gavotte'>, <Record ArtistName='Eric Milnes, Monika Mauch, Harry Van Der Kamp, Franziska Gottwald, Charles Daniels, Montréal Baroque, Johann Sebastian Bach' TrackName='Lute Suite in E Minor, BWV 996 (Arr. J. Williams for Guitar): VI. Gigue'>, <Record ArtistName='Eric Milnes, Monika Mauch, Harry Van Der Kamp, Franziska Gottwald, Charles Daniels, Montréal Baroque, Johann Sebastian Bach' TrackName='Mein Gott, wie lang, ach lange, BWV 155: Aria: Du musst glauben, du musst hoffen (Alto, Tenor)'>, <Record ArtistName='Eric Milnes, Monika Mauch, Harry Van Der Kamp, Franziska Gottwald, Charles Daniels, Montréal Baroque, Johann Sebastian Bach' TrackName='Suite française No. 4 in E-Flat Major, BWV 815: IV. Gavotte'>, <Record ArtistName='Eric Milnes, Monika Mauch, Harry Van Der Kamp, Franziska Gottwald, Charles Daniels, Montréal Baroque, Johann Sebastian Bach' TrackName='Lute Suite in E Minor, BWV 996 (Arr. J. Williams for Guitar): VI. Gigue'>, <Record ArtistName='Eric Milnes, Monika Mauch, Harry Van Der Kamp, Franziska Gottwald, Charles Daniels, Montréal Baroque, Johann Sebastian Bach' TrackName='Mein Gott, wie lang, ach lange, BWV 155: Aria: Du musst glauben, du musst hoffen (Alto, Tenor)'>, <Record ArtistName='Eric Milnes, Monika Mauch, Harry Van Der Kamp, Franziska Gottwald, Charles Daniels, Montréal Baroque, Johann Sebastian Bach' TrackName='Suite française No. 4 in E-Flat Major, BWV 815: IV. Gavotte'>, <Record ArtistName='Eric Milnes, Monika Mauch, Harry Van Der Kamp, Franziska Gottwald, Charles Daniels, Montréal Baroque, Johann Sebastian Bach' TrackName='Lute Suite in E Minor, BWV 996 (Arr. J. Williams for Guitar): VI. Gigue'>, <Record ArtistName='Eric Milnes, Monika Mauch, Harry Van Der Kamp, Franziska Gottwald, Charles Daniels, Montréal Baroque, Johann Sebastian Bach' TrackName='Mein Gott, wie lang, ach lange, BWV 155: Aria: Du musst glauben, du musst hoffen (Alto, Tenor)'>, <Record ArtistName='Eric Milnes, Monika Mauch, Harry Van Der Kamp, Franziska Gottwald, Charles Daniels, Montréal Baroque, Johann Sebastian Bach' TrackName='Suite française No. 4 in E-Flat Major, BWV 815: IV. Gavotte'>, <Record ArtistName='Eric Milnes, Monika Mauch, Harry Van Der Kamp, Franziska Gottwald, Charles Daniels, Montréal Baroque, Johann Sebastian Bach' TrackName='Lute Suite in E Minor, BWV 996 (Arr. J. Williams for Guitar): VI. Gigue'>, <Record ArtistName='Eric Milnes, Monika Mauch, Harry Van Der Kamp, Franziska Gottwald, Charles Daniels, Montréal Baroque, Johann Sebastian Bach' TrackName='Mein Gott, wie lang, ach lange, BWV 155: Aria: Du musst glauben, du musst hoffen (Alto, Tenor)'>, <Record ArtistName='Eric Milnes, Monika Mauch, Harry Van Der Kamp, Franziska Gottwald, Charles Daniels, Montréal Baroque, Johann Sebastian Bach' TrackName='Suite française No. 4 in E-Flat Major, BWV 815: IV. Gavotte'>, <Record ArtistName='Eric Milnes, Monika Mauch, Harry Van Der Kamp, Franziska Gottwald, Charles Daniels, Montréal Baroque, Johann Sebastian Bach' TrackName='Lute Suite in E Minor, BWV 996 (Arr. J. Williams for Guitar): VI. Gigue'>, <Record ArtistName='Eric Milnes, Monika Mauch, Harry Van Der Kamp, Franziska Gottwald, Charles Daniels, Montréal Baroque, Johann Sebastian Bach' TrackName='Mein Gott, wie lang, ach lange, BWV 155: Aria: Du musst glauben, du musst hoffen (Alto, Tenor)'>, <Record ArtistName='Eric Milnes, Monika Mauch, Harry Van Der Kamp, Franziska Gottwald, Charles Daniels, Montréal Baroque, Johann Sebastian Bach' TrackName='Suite française No. 4 in E-Flat Major, BWV 815: IV. Gavotte'>, <Record ArtistName='Eric Milnes, Monika Mauch, Harry Van Der Kamp, Franziska Gottwald, Charles Daniels, Montréal Baroque, Johann Sebastian Bach' TrackName='Lute Suite in E Minor, BWV 996 (Arr. J. Williams for Guitar): VI. Gigue'>, <Record ArtistName='Eric Milnes, Monika Mauch, Harry Van Der Kamp, Franziska Gottwald, Charles Daniels, Montréal Baroque, Johann Sebastian Bach' TrackName='Mein Gott, wie lang, ach lange, BWV 155: Aria: Du musst glauben, du musst hoffen (Alto, Tenor)'>, <Record ArtistName='Eric Milnes, Monika Mauch, Harry Van Der Kamp, Franziska Gottwald, Charles Daniels, Montréal Baroque, Johann Sebastian Bach' TrackName='Suite française No. 4 in E-Flat Major, BWV 815: IV. Gavotte'>, <Record ArtistName='Eric Milnes, Monika Mauch, Harry Van Der Kamp, Franziska Gottwald, Charles Daniels, Montréal Baroque, Johann Sebastian Bach' TrackName='Lute Suite in E Minor, BWV 996 (Arr. J. Williams for Guitar): VI. Gigue'>, <Record ArtistName='Eric Milnes, Monika Mauch, Harry Van Der Kamp, Franziska Gottwald, Charles Daniels, Montréal Baroque, Johann Sebastian Bach' TrackName='Mein Gott, wie lang, ach lange, BWV 155: Aria: Du musst glauben, du musst hoffen (Alto, Tenor)'>, <Record ArtistName='Eric Milnes, Monika Mauch, Harry Van Der Kamp, Franziska Gottwald, Charles Daniels, Montréal Baroque, Johann Sebastian Bach' TrackName='Suite française No. 4 in E-Flat Major, BWV 815: IV. Gavotte'>, <Record ArtistName='Eric Milnes, Monika Mauch, Harry Van Der Kamp, Franziska Gottwald, Charles Daniels, Montréal Baroque, Johann Sebastian Bach' TrackName='Lute Suite in E Minor, BWV 996 (Arr. J. Williams for Guitar): VI. Gigue'>, <Record ArtistName='Eric Milnes, Monika Mauch, Harry Van Der Kamp, Franziska Gottwald, Charles Daniels, Montréal Baroque, Johann Sebastian Bach' TrackName='Mein Gott, wie lang, ach lange, BWV 155: Aria: Du musst glauben, du musst hoffen (Alto, Tenor)'>, <Record ArtistName='Eric Milnes, Monika Mauch, Harry Van Der Kamp, Franziska Gottwald, Charles Daniels, Montréal Baroque, Johann Sebastian Bach' TrackName='Suite française No. 4 in E-Flat Major, BWV 815: IV. Gavotte'>, <Record ArtistName='Eric Milnes, Monika Mauch, Harry Van Der Kamp, Franziska Gottwald, Charles Daniels, Montréal Baroque, Johann Sebastian Bach' TrackName='Lute Suite in E Minor, BWV 996 (Arr. J. Williams for Guitar): VI. Gigue'>, <Record ArtistName='Eric Milnes, Monika Mauch, Harry Van Der Kamp, Franziska Gottwald, Charles Daniels, Montréal Baroque, Johann Sebastian Bach' TrackName='Mein Gott, wie lang, ach lange, BWV 155: Aria: Du musst glauben, du musst hoffen (Alto, Tenor)'>, <Record ArtistName='Eric Milnes, Monika Mauch, Harry Van Der Kamp, Franziska Gottwald, Charles Daniels, Montréal Baroque, Johann Sebastian Bach' TrackName='Suite française No. 4 in E-Flat Major, BWV 815: IV. Gavotte'>, <Record ArtistName='Eric Milnes, Monika Mauch, Harry Van Der Kamp, Franziska Gottwald, Charles Daniels, Montréal Baroque, Johann Sebastian Bach' TrackName='Lute Suite in E Minor, BWV 996 (Arr. J. Williams for Guitar): VI. Gigue'>, <Record ArtistName='Eric Milnes, Monika Mauch, Harry Van Der Kamp, Franziska Gottwald, Charles Daniels, Montréal Baroque, Johann Sebastian Bach' TrackName='Mein Gott, wie lang, ach lange, BWV 155: Aria: Du musst glauben, du musst hoffen (Alto, Tenor)'>, <Record ArtistName='Eric Milnes, Monika Mauch, Harry Van Der Kamp, Franziska Gottwald, Charles Daniels, Montréal Baroque, Johann Sebastian Bach' TrackName='Suite française No. 4 in E-Flat Major, BWV 815: IV. Gavotte'>, <Record ArtistName='Eric Milnes, Monika Mauch, Harry Van Der Kamp, Franziska Gottwald, Charles Daniels, Montréal Baroque, Johann Sebastian Bach' TrackName='Lute Suite in E Minor, BWV 996 (Arr. J. Williams for Guitar): VI. Gigue'>, <Record ArtistName='Eric Milnes, Monika Mauch, Harry Van Der Kamp, Franziska Gottwald, Charles Daniels, Montréal Baroque, Johann Sebastian Bach' TrackName='Mein Gott, wie lang, ach lange, BWV 155: Aria: Du musst glauben, du musst hoffen (Alto, Tenor)'>, <Record ArtistName='Eric Milnes, Monika Mauch, Harry Van Der Kamp, Franziska Gottwald, Charles Daniels, Montréal Baroque, Johann Sebastian Bach' TrackName='Suite française No. 4 in E-Flat Major, BWV 815: IV. Gavotte'>, <Record ArtistName='Eric Milnes, Monika Mauch, Harry Van Der Kamp, Franziska Gottwald, Charles Daniels, Montréal Baroque, Johann Sebastian Bach' TrackName='Lute Suite in E Minor, BWV 996 (Arr. J. Williams for Guitar): VI. Gigue'>, <Record ArtistName='Eric Milnes, Monika Mauch, Harry Van Der Kamp, Franziska Gottwald, Charles Daniels, Montréal Baroque, Johann Sebastian Bach' TrackName='Mein Gott, wie lang, ach lange, BWV 155: Aria: Du musst glauben, du musst hoffen (Alto, Tenor)'>, <Record ArtistName='Eric Milnes, Monika Mauch, Harry Van Der Kamp, Franziska Gottwald, Charles Daniels, Montréal Baroque, Johann Sebastian Bach' TrackName='Suite française No. 4 in E-Flat Major, BWV 815: IV. Gavotte'>, <Record ArtistName='Eric Milnes, Monika Mauch, Harry Van Der Kamp, Franziska Gottwald, Charles Daniels, Montréal Baroque, Johann Sebastian Bach' TrackName='Lute Suite in E Minor, BWV 996 (Arr. J. Williams for Guitar): VI. Gigue'>, <Record ArtistName='Eric Milnes, Monika Mauch, Harry Van Der Kamp, Franziska Gottwald, Charles Daniels, Montréal Baroque, Johann Sebastian Bach' TrackName='Mein Gott, wie lang, ach lange, BWV 155: Aria: Du musst glauben, du musst hoffen (Alto, Tenor)'>, <Record ArtistName='Eric Milnes, Monika Mauch, Harry Van Der Kamp, Franziska Gottwald, Charles Daniels, Montréal Baroque, Johann Sebastian Bach' TrackName='Suite française No. 4 in E-Flat Major, BWV 815: IV. Gavotte'>, <Record ArtistName='Eric Milnes, Monika Mauch, Harry Van Der Kamp, Franziska Gottwald, Charles Daniels, Montréal Baroque, Johann Sebastian Bach' TrackName='Lute Suite in E Minor, BWV 996 (Arr. J. Williams for Guitar): VI. Gigue'>, <Record ArtistName='Eric Milnes, Monika Mauch, Harry Van Der Kamp, Franziska Gottwald, Charles Daniels, Montréal Baroque, Johann Sebastian Bach' TrackName='Mein Gott, wie lang, ach lange, BWV 155: Aria: Du musst glauben, du musst hoffen (Alto, Tenor)'>, <Record ArtistName='Eric Milnes, Monika Mauch, Harry Van Der Kamp, Franziska Gottwald, Charles Daniels, Montréal Baroque, Johann Sebastian Bach' TrackName='Suite française No. 4 in E-Flat Major, BWV 815: IV. Gavotte'>, <Record ArtistName='Eric Milnes, Monika Mauch, Harry Van Der Kamp, Franziska Gottwald, Charles Daniels, Montréal Baroque, Johann Sebastian Bach' TrackName='Lute Suite in E Minor, BWV 996 (Arr. J. Williams for Guitar): VI. Gigue'>, <Record ArtistName='Eric Milnes, Monika Mauch, Harry Van Der Kamp, Franziska Gottwald, Charles Daniels, Montréal Baroque, Johann Sebastian Bach' TrackName='Mein Gott, wie lang, ach lange, BWV 155: Aria: Du musst glauben, du musst hoffen (Alto, Tenor)'>, <Record ArtistName='Eric Milnes, Monika Mauch, Harry Van Der Kamp, Franziska Gottwald, Charles Daniels, Montréal Baroque, Johann Sebastian Bach' TrackName='Suite française No. 4 in E-Flat Major, BWV 815: IV. Gavotte'>, <Record ArtistName='Eric Milnes, Monika Mauch, Harry Van Der Kamp, Franziska Gottwald, Charles Daniels, Montréal Baroque, Johann Sebastian Bach' TrackName='Lute Suite in E Minor, BWV 996 (Arr. J. Williams for Guitar): VI. Gigue'>, <Record ArtistName='Eric Milnes, Monika Mauch, Harry Van Der Kamp, Franziska Gottwald, Charles Daniels, Montréal Baroque, Johann Sebastian Bach' TrackName='Mein Gott, wie lang, ach lange, BWV 155: Aria: Du musst glauben, du musst hoffen (Alto, Tenor)'>, <Record ArtistName='Eric Milnes, Monika Mauch, Harry Van Der Kamp, Franziska Gottwald, Charles Daniels, Montréal Baroque, Johann Sebastian Bach' TrackName='Suite française No. 4 in E-Flat Major, BWV 815: IV. Gavotte'>, <Record ArtistName='Eric Milnes, Monika Mauch, Harry Van Der Kamp, Franziska Gottwald, Charles Daniels, Montréal Baroque, Johann Sebastian Bach' TrackName='Lute Suite in E Minor, BWV 996 (Arr. J. Williams for Guitar): VI. Gigue'>, <Record ArtistName='Randy Travis' TrackName='Highway Junkie'>, <Record ArtistName='Randy Travis' TrackName='King Of The Road'>, <Record ArtistName='Barbara Hendricks/English Chamber Orchestra/Jeffrey Tate' TrackName='Concerto for Flute and Harp in C Major, K. 299: II. Andante'>, <Record ArtistName='Barbara Hendricks/English Chamber Orchestra/Jeffrey Tate' TrackName='Symphony No. 19 in E-Flat Major, K. 132: IV. Allegro (Live)'>, <Record ArtistName='Barbara Hendricks/English Chamber Orchestra/Jeffrey Tate' TrackName=\"Ah, lo previdi...Ah, t'invola K272: Deh, non varca\">, <Record ArtistName='Barbara Hendricks/English Chamber Orchestra/Jeffrey Tate' TrackName='Concerto for Flute and Harp in C Major, K. 299: II. Andante'>, <Record ArtistName='Barbara Hendricks/English Chamber Orchestra/Jeffrey Tate' TrackName='Symphony No. 19 in E-Flat Major, K. 132: IV. Allegro (Live)'>, <Record ArtistName='Barbara Hendricks/English Chamber Orchestra/Jeffrey Tate' TrackName=\"Ah, lo previdi...Ah, t'invola K272: Deh, non varca\">, <Record ArtistName='Barbara Hendricks/English Chamber Orchestra/Jeffrey Tate' TrackName='Concerto for Flute and Harp in C Major, K. 299: II. Andante'>, <Record ArtistName='Barbara Hendricks/English Chamber Orchestra/Jeffrey Tate' TrackName='Symphony No. 19 in E-Flat Major, K. 132: IV. Allegro (Live)'>, <Record ArtistName='Barbara Hendricks/English Chamber Orchestra/Jeffrey Tate' TrackName=\"Ah, lo previdi...Ah, t'invola K272: Deh, non varca\">, <Record ArtistName='Barbara Hendricks/English Chamber Orchestra/Jeffrey Tate' TrackName='Concerto for Flute and Harp in C Major, K. 299: II. Andante'>, <Record ArtistName='Barbara Hendricks/English Chamber Orchestra/Jeffrey Tate' TrackName='Symphony No. 19 in E-Flat Major, K. 132: IV. Allegro (Live)'>, <Record ArtistName='Barbara Hendricks/English Chamber Orchestra/Jeffrey Tate' TrackName=\"Ah, lo previdi...Ah, t'invola K272: Deh, non varca\">, <Record ArtistName='Barbara Hendricks/English Chamber Orchestra/Jeffrey Tate' TrackName='Concerto for Flute and Harp in C Major, K. 299: II. Andante'>, <Record ArtistName='Barbara Hendricks/English Chamber Orchestra/Jeffrey Tate' TrackName='Symphony No. 19 in E-Flat Major, K. 132: IV. Allegro (Live)'>, <Record ArtistName='Barbara Hendricks/English Chamber Orchestra/Jeffrey Tate' TrackName=\"Ah, lo previdi...Ah, t'invola K272: Deh, non varca\">, <Record ArtistName='Barbara Hendricks/English Chamber Orchestra/Jeffrey Tate' TrackName='Concerto for Flute and Harp in C Major, K. 299: II. Andante'>, <Record ArtistName='Barbara Hendricks/English Chamber Orchestra/Jeffrey Tate' TrackName='Symphony No. 19 in E-Flat Major, K. 132: IV. Allegro (Live)'>, <Record ArtistName='Barbara Hendricks/English Chamber Orchestra/Jeffrey Tate' TrackName=\"Ah, lo previdi...Ah, t'invola K272: Deh, non varca\">, <Record ArtistName='Barbara Hendricks/English Chamber Orchestra/Jeffrey Tate' TrackName='Concerto for Flute and Harp in C Major, K. 299: II. Andante'>, <Record ArtistName='Barbara Hendricks/English Chamber Orchestra/Jeffrey Tate' TrackName='Symphony No. 19 in E-Flat Major, K. 132: IV. Allegro (Live)'>, <Record ArtistName='Barbara Hendricks/English Chamber Orchestra/Jeffrey Tate' TrackName=\"Ah, lo previdi...Ah, t'invola K272: Deh, non varca\">, <Record ArtistName='Dyango' TrackName='Lo Que Me Das'>, <Record ArtistName='Dyango' TrackName='Querer y Perder'>, <Record ArtistName='Krzysztof Penderecki/London Symphony Orchestra' TrackName='Les Troyens / Act 3: Prélude - Les Troyens à Carthage'>, <Record ArtistName='Krzysztof Penderecki/London Symphony Orchestra' TrackName='Symphony No. 1 (1995 Remastered Version): II. Dynamis II - Arche II'>, <Record ArtistName='Krzysztof Penderecki/London Symphony Orchestra' TrackName='Les Troyens / Act 3: Prélude - Les Troyens à Carthage'>, <Record ArtistName='Krzysztof Penderecki/London Symphony Orchestra' TrackName='Symphony No. 1 (1995 Remastered Version): II. Dynamis II - Arche II'>, <Record ArtistName='Krzysztof Penderecki/London Symphony Orchestra' TrackName='Les Troyens / Act 3: Prélude - Les Troyens à Carthage'>, <Record ArtistName='Krzysztof Penderecki/London Symphony Orchestra' TrackName='Symphony No. 1 (1995 Remastered Version): II. Dynamis II - Arche II'>, <Record ArtistName='Krzysztof Penderecki/London Symphony Orchestra' TrackName='Les Troyens / Act 3: Prélude - Les Troyens à Carthage'>, <Record ArtistName='Krzysztof Penderecki/London Symphony Orchestra' TrackName='Symphony No. 1 (1995 Remastered Version): II. Dynamis II - Arche II'>, <Record ArtistName='Krzysztof Penderecki/London Symphony Orchestra' TrackName='Les Troyens / Act 3: Prélude - Les Troyens à Carthage'>, <Record ArtistName='Krzysztof Penderecki/London Symphony Orchestra' TrackName='Symphony No. 1 (1995 Remastered Version): II. Dynamis II - Arche II'>, <Record ArtistName='Krzysztof Penderecki/London Symphony Orchestra' TrackName='Les Troyens / Act 3: Prélude - Les Troyens à Carthage'>, <Record ArtistName='Krzysztof Penderecki/London Symphony Orchestra' TrackName='Symphony No. 1 (1995 Remastered Version): II. Dynamis II - Arche II'>, <Record ArtistName='Krzysztof Penderecki/London Symphony Orchestra' TrackName='Les Troyens / Act 3: Prélude - Les Troyens à Carthage'>, <Record ArtistName='Krzysztof Penderecki/London Symphony Orchestra' TrackName='Symphony No. 1 (1995 Remastered Version): II. Dynamis II - Arche II'>, <Record ArtistName='Krzysztof Penderecki/London Symphony Orchestra' TrackName='Les Troyens / Act 3: Prélude - Les Troyens à Carthage'>, <Record ArtistName='Krzysztof Penderecki/London Symphony Orchestra' TrackName='Symphony No. 1 (1995 Remastered Version): II. Dynamis II - Arche II'>, <Record ArtistName='Krzysztof Penderecki/London Symphony Orchestra' TrackName='Les Troyens / Act 3: Prélude - Les Troyens à Carthage'>, <Record ArtistName='Krzysztof Penderecki/London Symphony Orchestra' TrackName='Symphony No. 1 (1995 Remastered Version): II. Dynamis II - Arche II'>, <Record ArtistName='Krzysztof Penderecki/London Symphony Orchestra' TrackName='Les Troyens / Act 3: Prélude - Les Troyens à Carthage'>, <Record ArtistName='Krzysztof Penderecki/London Symphony Orchestra' TrackName='Symphony No. 1 (1995 Remastered Version): II. Dynamis II - Arche II'>, <Record ArtistName='Krzysztof Penderecki/London Symphony Orchestra' TrackName='Les Troyens / Act 3: Prélude - Les Troyens à Carthage'>, <Record ArtistName='Krzysztof Penderecki/London Symphony Orchestra' TrackName='Symphony No. 1 (1995 Remastered Version): II. Dynamis II - Arche II'>, <Record ArtistName='Krzysztof Penderecki/London Symphony Orchestra' TrackName='Les Troyens / Act 3: Prélude - Les Troyens à Carthage'>, <Record ArtistName='Krzysztof Penderecki/London Symphony Orchestra' TrackName='Symphony No. 1 (1995 Remastered Version): II. Dynamis II - Arche II'>, <Record ArtistName='Krzysztof Penderecki/London Symphony Orchestra' TrackName='Les Troyens / Act 3: Prélude - Les Troyens à Carthage'>, <Record ArtistName='Krzysztof Penderecki/London Symphony Orchestra' TrackName='Symphony No. 1 (1995 Remastered Version): II. Dynamis II - Arche II'>, <Record ArtistName='Jean Fonda, Pierre Fournier' TrackName='II. Andante molto tranquillo'>, <Record ArtistName='Jean Fonda, Pierre Fournier' TrackName='Lyric Pieces Book 4, Op. 47: III. Melody'>, <Record ArtistName='Jean Fonda, Pierre Fournier' TrackName='II. Andante molto tranquillo'>, <Record ArtistName='Jean Fonda, Pierre Fournier' TrackName='String Quintet No. 2 in G Major, Op. 111: I. Allegro non troppo, ma con brio'>, <Record ArtistName='Jean Fonda, Pierre Fournier' TrackName='II. Andante molto tranquillo'>, <Record ArtistName='Jean Fonda, Pierre Fournier' TrackName='Lyric Pieces Book 4, Op. 47: III. Melody'>, <Record ArtistName='Jean Fonda, Pierre Fournier' TrackName='II. Andante molto tranquillo'>, <Record ArtistName='Jean Fonda, Pierre Fournier' TrackName='String Quintet No. 2 in G Major, Op. 111: I. Allegro non troppo, ma con brio'>, <Record ArtistName='Jean Fonda, Pierre Fournier' TrackName='II. Andante molto tranquillo'>, <Record ArtistName='Jean Fonda, Pierre Fournier' TrackName='Lyric Pieces Book 4, Op. 47: III. Melody'>, <Record ArtistName='Jean Fonda, Pierre Fournier' TrackName='II. Andante molto tranquillo'>, <Record ArtistName='Jean Fonda, Pierre Fournier' TrackName='String Quintet No. 2 in G Major, Op. 111: I. Allegro non troppo, ma con brio'>, <Record ArtistName='Jean Fonda, Pierre Fournier' TrackName='II. Andante molto tranquillo'>, <Record ArtistName='Jean Fonda, Pierre Fournier' TrackName='Lyric Pieces Book 4, Op. 47: III. Melody'>, <Record ArtistName='Jean Fonda, Pierre Fournier' TrackName='II. Andante molto tranquillo'>, <Record ArtistName='Jean Fonda, Pierre Fournier' TrackName='String Quintet No. 2 in G Major, Op. 111: I. Allegro non troppo, ma con brio'>, <Record ArtistName='Jean Fonda, Pierre Fournier' TrackName='II. Andante molto tranquillo'>, <Record ArtistName='Jean Fonda, Pierre Fournier' TrackName='String Quintet No. 2 in G Major, Op. 111: I. Allegro non troppo, ma con brio'>, <Record ArtistName='Jean Fonda, Pierre Fournier' TrackName='II. Andante molto tranquillo'>, <Record ArtistName='Jean Fonda, Pierre Fournier' TrackName='String Quintet No. 2 in G Major, Op. 111: I. Allegro non troppo, ma con brio'>, <Record ArtistName='Jean Fonda, Pierre Fournier' TrackName='II. Andante molto tranquillo'>, <Record ArtistName='Jean Fonda, Pierre Fournier' TrackName='Lyric Pieces Book 4, Op. 47: III. Melody'>, <Record ArtistName='Jean Fonda, Pierre Fournier' TrackName='II. Andante molto tranquillo'>, <Record ArtistName='Jean Fonda, Pierre Fournier' TrackName='Lyric Pieces Book 4, Op. 47: III. Melody'>, <Record ArtistName='Jean Fonda, Pierre Fournier' TrackName='II. Andante molto tranquillo'>, <Record ArtistName='Jean Fonda, Pierre Fournier' TrackName='String Quintet No. 2 in G Major, Op. 111: I. Allegro non troppo, ma con brio'>, <Record ArtistName='Jean Fonda, Pierre Fournier' TrackName='II. Andante molto tranquillo'>, <Record ArtistName='Jean Fonda, Pierre Fournier' TrackName='Lyric Pieces Book 4, Op. 47: III. Melody'>, <Record ArtistName='Jean Fonda, Pierre Fournier' TrackName='II. Andante molto tranquillo'>, <Record ArtistName='Jean Fonda, Pierre Fournier' TrackName='Lyric Pieces Book 4, Op. 47: III. Melody'>, <Record ArtistName='Jean Fonda, Pierre Fournier' TrackName='II. Andante molto tranquillo'>, <Record ArtistName='Jean Fonda, Pierre Fournier' TrackName='Lyric Pieces Book 4, Op. 47: III. Melody'>, <Record ArtistName='Jean Fonda, Pierre Fournier' TrackName='II. Andante molto tranquillo'>, <Record ArtistName='Jean Fonda, Pierre Fournier' TrackName='Lyric Pieces Book 4, Op. 47: III. Melody'>, <Record ArtistName='Jean Fonda, Pierre Fournier' TrackName='II. Andante molto tranquillo'>, <Record ArtistName='Jean Fonda, Pierre Fournier' TrackName='Lyric Pieces Book 4, Op. 47: III. Melody'>, <Record ArtistName='Jean Fonda, Pierre Fournier' TrackName='II. Andante molto tranquillo'>, <Record ArtistName='Jean Fonda, Pierre Fournier' TrackName='String Quintet No. 2 in G Major, Op. 111: I. Allegro non troppo, ma con brio'>, <Record ArtistName='Jean Fonda, Pierre Fournier' TrackName='II. Andante molto tranquillo'>, <Record ArtistName='Jean Fonda, Pierre Fournier' TrackName='String Quintet No. 2 in G Major, Op. 111: I. Allegro non troppo, ma con brio'>, <Record ArtistName='Jean Fonda, Pierre Fournier' TrackName='II. Andante molto tranquillo'>, <Record ArtistName='Jean Fonda, Pierre Fournier' TrackName='String Quintet No. 2 in G Major, Op. 111: I. Allegro non troppo, ma con brio'>, <Record ArtistName='Jean Fonda, Pierre Fournier' TrackName='II. Andante molto tranquillo'>, <Record ArtistName='Jean Fonda, Pierre Fournier' TrackName='Lyric Pieces Book 4, Op. 47: III. Melody'>, <Record ArtistName='Jean Fonda, Pierre Fournier' TrackName='II. Andante molto tranquillo'>, <Record ArtistName='Jean Fonda, Pierre Fournier' TrackName='Lyric Pieces Book 4, Op. 47: III. Melody'>, <Record ArtistName='Jean Fonda, Pierre Fournier' TrackName='II. Andante molto tranquillo'>, <Record ArtistName='Jean Fonda, Pierre Fournier' TrackName='String Quintet No. 2 in G Major, Op. 111: I. Allegro non troppo, ma con brio'>, <Record ArtistName='Jean Fonda, Pierre Fournier' TrackName='II. Andante molto tranquillo'>, <Record ArtistName='Jean Fonda, Pierre Fournier' TrackName='Lyric Pieces Book 4, Op. 47: III. Melody'>, <Record ArtistName='Jean Fonda, Pierre Fournier' TrackName='II. Andante molto tranquillo'>, <Record ArtistName='Jean Fonda, Pierre Fournier' TrackName='String Quintet No. 2 in G Major, Op. 111: I. Allegro non troppo, ma con brio'>, <Record ArtistName='Xenia Jankovic, Friedrich Kiel, Hariolf Schlichtig, Oliver Triendl, Ulrike-Anima Mathe' TrackName='Piano Concerto in D Major: II. Adagio sostenuto'>, <Record ArtistName='Xenia Jankovic, Friedrich Kiel, Hariolf Schlichtig, Oliver Triendl, Ulrike-Anima Mathe' TrackName='Piano Quartet No. 2 in E Major, Op. 44: I. Allegro moderato'>, <Record ArtistName='Yuji Takahashi, Erik Satie' TrackName='Satie: 3 Gymnopédies - No.1'>, <Record ArtistName='Yuji Takahashi, Erik Satie' TrackName='3 Melodies de 1886 I. Les Anges'>, <Record ArtistName='Yuji Takahashi, Erik Satie' TrackName='Satie: 3 Gymnopédies - No.1'>, <Record ArtistName='Yuji Takahashi, Erik Satie' TrackName='3 Melodies de 1886 I. Les Anges'>, <Record ArtistName='Ludwig van Beethoven, Vladimir Ashkenazy, Philharmonia Orchestra' TrackName='Overture \"Leonore No.3\", Op.72b'>, <Record ArtistName='Ludwig van Beethoven, Vladimir Ashkenazy, Philharmonia Orchestra' TrackName='Piano Trio No. 6 in E-Flat Major, Op. 70 No. 2: I. Poco sostenuto - Allegro ma non troppo'>, <Record ArtistName='Ludwig van Beethoven, Vladimir Ashkenazy, Philharmonia Orchestra' TrackName='Overture \"Leonore No.3\", Op.72b'>, <Record ArtistName='Ludwig van Beethoven, Vladimir Ashkenazy, Philharmonia Orchestra' TrackName='Piano Trio No. 6 in E-Flat Major, Op. 70 No. 2: I. Poco sostenuto - Allegro ma non troppo'>, <Record ArtistName='Ludwig van Beethoven, Vladimir Ashkenazy, Philharmonia Orchestra' TrackName='Overture \"Leonore No.3\", Op.72b'>, <Record ArtistName='Ludwig van Beethoven, Vladimir Ashkenazy, Philharmonia Orchestra' TrackName='Piano Trio No. 6 in E-Flat Major, Op. 70 No. 2: I. Poco sostenuto - Allegro ma non troppo'>, <Record ArtistName='Ludwig van Beethoven, Vladimir Ashkenazy, Philharmonia Orchestra' TrackName='Overture \"Leonore No.3\", Op.72b'>, <Record ArtistName='Ludwig van Beethoven, Vladimir Ashkenazy, Philharmonia Orchestra' TrackName='Piano Trio No. 6 in E-Flat Major, Op. 70 No. 2: I. Poco sostenuto - Allegro ma non troppo'>, <Record ArtistName='Ludwig van Beethoven, Vladimir Ashkenazy, Philharmonia Orchestra' TrackName='Overture \"Leonore No.3\", Op.72b'>, <Record ArtistName='Ludwig van Beethoven, Vladimir Ashkenazy, Philharmonia Orchestra' TrackName='Piano Trio No. 6 in E-Flat Major, Op. 70 No. 2: I. Poco sostenuto - Allegro ma non troppo'>, <Record ArtistName='Ludwig van Beethoven, Vladimir Ashkenazy, Philharmonia Orchestra' TrackName='Overture \"Leonore No.3\", Op.72b'>, <Record ArtistName='Ludwig van Beethoven, Vladimir Ashkenazy, Philharmonia Orchestra' TrackName='Piano Trio No. 6 in E-Flat Major, Op. 70 No. 2: I. Poco sostenuto - Allegro ma non troppo'>, <Record ArtistName='Ludwig van Beethoven, Vladimir Ashkenazy, Philharmonia Orchestra' TrackName='Overture \"Leonore No.3\", Op.72b'>, <Record ArtistName='Ludwig van Beethoven, Vladimir Ashkenazy, Philharmonia Orchestra' TrackName='Piano Trio No. 6 in E-Flat Major, Op. 70 No. 2: I. Poco sostenuto - Allegro ma non troppo'>, <Record ArtistName='Ludwig van Beethoven, Vladimir Ashkenazy, Philharmonia Orchestra' TrackName='Overture \"Leonore No.3\", Op.72b'>, <Record ArtistName='Ludwig van Beethoven, Vladimir Ashkenazy, Philharmonia Orchestra' TrackName='Piano Trio No. 6 in E-Flat Major, Op. 70 No. 2: I. Poco sostenuto - Allegro ma non troppo'>, <Record ArtistName='Thomas Zehetmair, Orchestre de chambre de Paris' TrackName='3. Lebhaft, doch nicht schnell'>, <Record ArtistName='Thomas Zehetmair, Orchestre de chambre de Paris' TrackName=\"String Quartet in F Major, Op. 41 No. 2: III. Scherzo. Presto - Trio. L'istesso tempo - Coda\">, <Record ArtistName='Thomas Zehetmair, Orchestre de chambre de Paris' TrackName='Waldszenen, Op. 82: 3. Einsame Blumen'>, <Record ArtistName='Thomas Zehetmair, Orchestre de chambre de Paris' TrackName='3. Lebhaft, doch nicht schnell'>, <Record ArtistName='Thomas Zehetmair, Orchestre de chambre de Paris' TrackName=\"String Quartet in F Major, Op. 41 No. 2: III. Scherzo. Presto - Trio. L'istesso tempo - Coda\">, <Record ArtistName='Thomas Zehetmair, Orchestre de chambre de Paris' TrackName='Waldszenen, Op. 82: 3. Einsame Blumen'>, <Record ArtistName='Thomas Zehetmair, Orchestre de chambre de Paris' TrackName='3. Lebhaft, doch nicht schnell'>, <Record ArtistName='Thomas Zehetmair, Orchestre de chambre de Paris' TrackName=\"String Quartet in F Major, Op. 41 No. 2: III. Scherzo. Presto - Trio. L'istesso tempo - Coda\">, <Record ArtistName='Thomas Zehetmair, Orchestre de chambre de Paris' TrackName='Waldszenen, Op. 82: 3. Einsame Blumen'>, <Record ArtistName='Thomas Zehetmair, Orchestre de chambre de Paris' TrackName='3. Lebhaft, doch nicht schnell'>, <Record ArtistName='Thomas Zehetmair, Orchestre de chambre de Paris' TrackName=\"String Quartet in F Major, Op. 41 No. 2: III. Scherzo. Presto - Trio. L'istesso tempo - Coda\">, <Record ArtistName='Thomas Zehetmair, Orchestre de chambre de Paris' TrackName='Waldszenen, Op. 82: 3. Einsame Blumen'>, <Record ArtistName='Thomas Zehetmair, Orchestre de chambre de Paris' TrackName='3. Lebhaft, doch nicht schnell'>, <Record ArtistName='Thomas Zehetmair, Orchestre de chambre de Paris' TrackName=\"String Quartet in F Major, Op. 41 No. 2: III. Scherzo. Presto - Trio. L'istesso tempo - Coda\">, <Record ArtistName='Thomas Zehetmair, Orchestre de chambre de Paris' TrackName='Waldszenen, Op. 82: 3. Einsame Blumen'>, <Record ArtistName='Thomas Zehetmair, Orchestre de chambre de Paris' TrackName='3. Lebhaft, doch nicht schnell'>, <Record ArtistName='Thomas Zehetmair, Orchestre de chambre de Paris' TrackName=\"String Quartet in F Major, Op. 41 No. 2: III. Scherzo. Presto - Trio. L'istesso tempo - Coda\">, <Record ArtistName='Thomas Zehetmair, Orchestre de chambre de Paris' TrackName='Waldszenen, Op. 82: 3. Einsame Blumen'>, <Record ArtistName='Thomas Zehetmair, Orchestre de chambre de Paris' TrackName='3. Lebhaft, doch nicht schnell'>, <Record ArtistName='Thomas Zehetmair, Orchestre de chambre de Paris' TrackName=\"String Quartet in F Major, Op. 41 No. 2: III. Scherzo. Presto - Trio. L'istesso tempo - Coda\">, <Record ArtistName='Thomas Zehetmair, Orchestre de chambre de Paris' TrackName='Waldszenen, Op. 82: 3. Einsame Blumen'>, <Record ArtistName='Thomas Zehetmair, Orchestre de chambre de Paris' TrackName='3. Lebhaft, doch nicht schnell'>, <Record ArtistName='Thomas Zehetmair, Orchestre de chambre de Paris' TrackName=\"String Quartet in F Major, Op. 41 No. 2: III. Scherzo. Presto - Trio. L'istesso tempo - Coda\">, <Record ArtistName='Thomas Zehetmair, Orchestre de chambre de Paris' TrackName='Waldszenen, Op. 82: 3. Einsame Blumen'>, <Record ArtistName=\"L'aura Soave Cremona, Antonio Vivaldi, Sergio Azzolini\" TrackName='Bassoon Concerto in C Major, RV 471: III. Allegro'>, <Record ArtistName=\"L'aura Soave Cremona, Antonio Vivaldi, Sergio Azzolini\" TrackName='Chamber Concerto in G Minor for Flute, Oboe, Bassoon, Violin and Continuo, RV 107: II. Largo'>, <Record ArtistName=\"L'aura Soave Cremona, Antonio Vivaldi, Sergio Azzolini\" TrackName='Bassoon Concerto in C Major, RV 471: III. Allegro'>, <Record ArtistName=\"L'aura Soave Cremona, Antonio Vivaldi, Sergio Azzolini\" TrackName='Chamber Concerto in G Minor for Flute, Oboe, Bassoon, Violin and Continuo, RV 107: II. Largo'>, <Record ArtistName=\"L'aura Soave Cremona, Antonio Vivaldi, Sergio Azzolini\" TrackName='Bassoon Concerto in C Major, RV 471: III. Allegro'>, <Record ArtistName=\"L'aura Soave Cremona, Antonio Vivaldi, Sergio Azzolini\" TrackName='Chamber Concerto in G Minor for Flute, Oboe, Bassoon, Violin and Continuo, RV 107: II. Largo'>, <Record ArtistName=\"L'aura Soave Cremona, Antonio Vivaldi, Sergio Azzolini\" TrackName='Bassoon Concerto in C Major, RV 471: III. Allegro'>, <Record ArtistName=\"L'aura Soave Cremona, Antonio Vivaldi, Sergio Azzolini\" TrackName='Chamber Concerto in G Minor for Flute, Oboe, Bassoon, Violin and Continuo, RV 107: II. Largo'>, <Record ArtistName=\"L'aura Soave Cremona, Antonio Vivaldi, Sergio Azzolini\" TrackName='Bassoon Concerto in C Major, RV 471: III. Allegro'>, <Record ArtistName=\"L'aura Soave Cremona, Antonio Vivaldi, Sergio Azzolini\" TrackName='Chamber Concerto in G Minor for Flute, Oboe, Bassoon, Violin and Continuo, RV 107: II. Largo'>, <Record ArtistName=\"L'aura Soave Cremona, Antonio Vivaldi, Sergio Azzolini\" TrackName='Bassoon Concerto in C Major, RV 471: III. Allegro'>, <Record ArtistName=\"L'aura Soave Cremona, Antonio Vivaldi, Sergio Azzolini\" TrackName='Chamber Concerto in G Minor for Flute, Oboe, Bassoon, Violin and Continuo, RV 107: II. Largo'>, <Record ArtistName=\"L'aura Soave Cremona, Antonio Vivaldi, Sergio Azzolini\" TrackName='Bassoon Concerto in C Major, RV 471: III. Allegro'>, <Record ArtistName=\"L'aura Soave Cremona, Antonio Vivaldi, Sergio Azzolini\" TrackName='Chamber Concerto in G Minor for Flute, Oboe, Bassoon, Violin and Continuo, RV 107: II. Largo'>, <Record ArtistName=\"L'aura Soave Cremona, Antonio Vivaldi, Sergio Azzolini\" TrackName='Bassoon Concerto in C Major, RV 471: III. Allegro'>, <Record ArtistName=\"L'aura Soave Cremona, Antonio Vivaldi, Sergio Azzolini\" TrackName='Chamber Concerto in G Minor for Flute, Oboe, Bassoon, Violin and Continuo, RV 107: II. Largo'>, <Record ArtistName=\"L'aura Soave Cremona, Antonio Vivaldi, Sergio Azzolini\" TrackName='Bassoon Concerto in C Major, RV 471: III. Allegro'>, <Record ArtistName=\"L'aura Soave Cremona, Antonio Vivaldi, Sergio Azzolini\" TrackName='Chamber Concerto in G Minor for Flute, Oboe, Bassoon, Violin and Continuo, RV 107: II. Largo'>, <Record ArtistName=\"L'aura Soave Cremona, Antonio Vivaldi, Sergio Azzolini\" TrackName='Bassoon Concerto in C Major, RV 471: III. Allegro'>, <Record ArtistName=\"L'aura Soave Cremona, Antonio Vivaldi, Sergio Azzolini\" TrackName='Chamber Concerto in G Minor for Flute, Oboe, Bassoon, Violin and Continuo, RV 107: II. Largo'>, <Record ArtistName='David Schrader, Rachel Barton Pine, George Frideric Handel, John Mark Rozendaal' TrackName='Violin Sonata No. 5 in G Minor, Op. 1, No. 10, HWV 368: II. Allegro'>, <Record ArtistName='David Schrader, Rachel Barton Pine, George Frideric Handel, John Mark Rozendaal' TrackName='6 Overtures … in 7 Parts: Overture No. 6 in E-flat Major: III. Moderato'>, <Record ArtistName='Willi Boskovsky, Wiener Symphoniker' TrackName='Rococo Variations, Op. 33: Variation 2, Tempo della Thema'>, <Record ArtistName='Willi Boskovsky, Wiener Symphoniker' TrackName='Nutcracker - Waltz of the Flowers'>, <Record ArtistName='Willi Boskovsky, Wiener Symphoniker' TrackName='Rococo Variations, Op. 33: Variation 2, Tempo della Thema'>, <Record ArtistName='Willi Boskovsky, Wiener Symphoniker' TrackName='Nutcracker - Waltz of the Flowers'>, <Record ArtistName='Willi Boskovsky, Wiener Symphoniker' TrackName='Rococo Variations, Op. 33: Variation 2, Tempo della Thema'>, <Record ArtistName='Willi Boskovsky, Wiener Symphoniker' TrackName='Nutcracker - Waltz of the Flowers'>, <Record ArtistName='Willi Boskovsky, Wiener Symphoniker' TrackName='Rococo Variations, Op. 33: Variation 2, Tempo della Thema'>, <Record ArtistName='Willi Boskovsky, Wiener Symphoniker' TrackName='Nutcracker - Waltz of the Flowers'>, <Record ArtistName='Willi Boskovsky, Wiener Symphoniker' TrackName='Rococo Variations, Op. 33: Variation 2, Tempo della Thema'>, <Record ArtistName='Willi Boskovsky, Wiener Symphoniker' TrackName='Nutcracker - Waltz of the Flowers'>, <Record ArtistName='Willi Boskovsky, Wiener Symphoniker' TrackName='Rococo Variations, Op. 33: Variation 2, Tempo della Thema'>, <Record ArtistName='Willi Boskovsky, Wiener Symphoniker' TrackName='Nutcracker - Waltz of the Flowers'>, <Record ArtistName='Willi Boskovsky, Wiener Symphoniker' TrackName='Rococo Variations, Op. 33: Variation 2, Tempo della Thema'>, <Record ArtistName='Willi Boskovsky, Wiener Symphoniker' TrackName='Nutcracker - Waltz of the Flowers'>, <Record ArtistName='Willi Boskovsky, Wiener Symphoniker' TrackName='Rococo Variations, Op. 33: Variation 2, Tempo della Thema'>, <Record ArtistName='Willi Boskovsky, Wiener Symphoniker' TrackName='Nutcracker - Waltz of the Flowers'>, <Record ArtistName='Willi Boskovsky, Wiener Symphoniker' TrackName='Rococo Variations, Op. 33: Variation 2, Tempo della Thema'>, <Record ArtistName='Willi Boskovsky, Wiener Symphoniker' TrackName='Nutcracker - Waltz of the Flowers'>, <Record ArtistName='Willi Boskovsky, Wiener Symphoniker' TrackName='Rococo Variations, Op. 33: Variation 2, Tempo della Thema'>, <Record ArtistName='Willi Boskovsky, Wiener Symphoniker' TrackName='Nutcracker - Waltz of the Flowers'>, <Record ArtistName='Willi Boskovsky, Wiener Symphoniker' TrackName='Rococo Variations, Op. 33: Variation 2, Tempo della Thema'>, <Record ArtistName='Willi Boskovsky, Wiener Symphoniker' TrackName='Nutcracker - Waltz of the Flowers'>, <Record ArtistName='Willi Boskovsky, Wiener Symphoniker' TrackName='Rococo Variations, Op. 33: Variation 2, Tempo della Thema'>, <Record ArtistName='Willi Boskovsky, Wiener Symphoniker' TrackName='Nutcracker - Waltz of the Flowers'>, <Record ArtistName='Willi Boskovsky, Wiener Symphoniker' TrackName='Rococo Variations, Op. 33: Variation 2, Tempo della Thema'>, <Record ArtistName='Willi Boskovsky, Wiener Symphoniker' TrackName='Nutcracker - Waltz of the Flowers'>, <Record ArtistName='Willi Boskovsky, Wiener Symphoniker' TrackName='Rococo Variations, Op. 33: Variation 2, Tempo della Thema'>, <Record ArtistName='Willi Boskovsky, Wiener Symphoniker' TrackName='Nutcracker - Waltz of the Flowers'>, <Record ArtistName='Musique Classique, Frédéric Chopin' TrackName='Karol Kurpiński: Fuga I Koda in B Major Na Temat \"Jeszcze Polska nie zginęła\"'>, <Record ArtistName='Musique Classique, Frédéric Chopin' TrackName='Nocturne in E-Flat Major, Op. 9, No. 2'>, <Record ArtistName='Musique Classique, Frédéric Chopin' TrackName='Valse No. 1 en mi bémol majeur Op. 18, \"Grande valse brillante\"'>, <Record ArtistName='Musique Classique, Frédéric Chopin' TrackName='Karol Kurpiński: Fuga I Koda in B Major Na Temat \"Jeszcze Polska nie zginęła\"'>, <Record ArtistName='Musique Classique, Frédéric Chopin' TrackName='Nocturne in E-Flat Major, Op. 9, No. 2'>, <Record ArtistName='Musique Classique, Frédéric Chopin' TrackName='Valse No. 1 en mi bémol majeur Op. 18, \"Grande valse brillante\"'>, <Record ArtistName='Musique Classique, Frédéric Chopin' TrackName='Karol Kurpiński: Fuga I Koda in B Major Na Temat \"Jeszcze Polska nie zginęła\"'>, <Record ArtistName='Musique Classique, Frédéric Chopin' TrackName='Nocturne in E-Flat Major, Op. 9, No. 2'>, <Record ArtistName='Musique Classique, Frédéric Chopin' TrackName='Valse No. 1 en mi bémol majeur Op. 18, \"Grande valse brillante\"'>, <Record ArtistName='Musique Classique, Frédéric Chopin' TrackName='Karol Kurpiński: Fuga I Koda in B Major Na Temat \"Jeszcze Polska nie zginęła\"'>, <Record ArtistName='Musique Classique, Frédéric Chopin' TrackName='Nocturne in E-Flat Major, Op. 9, No. 2'>, <Record ArtistName='Musique Classique, Frédéric Chopin' TrackName='Valse No. 1 en mi bémol majeur Op. 18, \"Grande valse brillante\"'>, <Record ArtistName='Musique Classique, Frédéric Chopin' TrackName='Karol Kurpiński: Fuga I Koda in B Major Na Temat \"Jeszcze Polska nie zginęła\"'>, <Record ArtistName='Musique Classique, Frédéric Chopin' TrackName='Nocturne in E-Flat Major, Op. 9, No. 2'>, <Record ArtistName='Musique Classique, Frédéric Chopin' TrackName='Valse No. 1 en mi bémol majeur Op. 18, \"Grande valse brillante\"'>, <Record ArtistName='Musique Classique, Frédéric Chopin' TrackName='Karol Kurpiński: Fuga I Koda in B Major Na Temat \"Jeszcze Polska nie zginęła\"'>, <Record ArtistName='Musique Classique, Frédéric Chopin' TrackName='Nocturne in E-Flat Major, Op. 9, No. 2'>, <Record ArtistName='Musique Classique, Frédéric Chopin' TrackName='Valse No. 1 en mi bémol majeur Op. 18, \"Grande valse brillante\"'>, <Record ArtistName='Musique Classique, Frédéric Chopin' TrackName='Karol Kurpiński: Fuga I Koda in B Major Na Temat \"Jeszcze Polska nie zginęła\"'>, <Record ArtistName='Musique Classique, Frédéric Chopin' TrackName='Nocturne in E-Flat Major, Op. 9, No. 2'>, <Record ArtistName='Musique Classique, Frédéric Chopin' TrackName='Valse No. 1 en mi bémol majeur Op. 18, \"Grande valse brillante\"'>, <Record ArtistName='Musique Classique, Frédéric Chopin' TrackName='Karol Kurpiński: Fuga I Koda in B Major Na Temat \"Jeszcze Polska nie zginęła\"'>, <Record ArtistName='Musique Classique, Frédéric Chopin' TrackName='Nocturne in E-Flat Major, Op. 9, No. 2'>, <Record ArtistName='Musique Classique, Frédéric Chopin' TrackName='Valse No. 1 en mi bémol majeur Op. 18, \"Grande valse brillante\"'>, <Record ArtistName='Musique Classique, Frédéric Chopin' TrackName='Karol Kurpiński: Fuga I Koda in B Major Na Temat \"Jeszcze Polska nie zginęła\"'>, <Record ArtistName='Musique Classique, Frédéric Chopin' TrackName='Nocturne in E-Flat Major, Op. 9, No. 2'>, <Record ArtistName='Musique Classique, Frédéric Chopin' TrackName='Valse No. 1 en mi bémol majeur Op. 18, \"Grande valse brillante\"'>, <Record ArtistName='Musique Classique, Frédéric Chopin' TrackName='Karol Kurpiński: Fuga I Koda in B Major Na Temat \"Jeszcze Polska nie zginęła\"'>, <Record ArtistName='Musique Classique, Frédéric Chopin' TrackName='Nocturne in E-Flat Major, Op. 9, No. 2'>, <Record ArtistName='Musique Classique, Frédéric Chopin' TrackName='Valse No. 1 en mi bémol majeur Op. 18, \"Grande valse brillante\"'>, <Record ArtistName='Musique Classique, Frédéric Chopin' TrackName='Karol Kurpiński: Fuga I Koda in B Major Na Temat \"Jeszcze Polska nie zginęła\"'>, <Record ArtistName='Musique Classique, Frédéric Chopin' TrackName='Nocturne in E-Flat Major, Op. 9, No. 2'>, <Record ArtistName='Musique Classique, Frédéric Chopin' TrackName='Valse No. 1 en mi bémol majeur Op. 18, \"Grande valse brillante\"'>, <Record ArtistName='Ton Koopman' TrackName='Flute Concerto in D Minor, Wq. 22: II. Un poco andante'>, <Record ArtistName='Ton Koopman' TrackName='Präludium und Fuge c-Moll, BWV 549'>, <Record ArtistName='Frieder Bernius, Felix Mendelssohn, Stuttgart Chamber Orchestra, György Bognár, Rheinhard Werner, Kammerchor Stuttgart' TrackName=\"Mendelssohn Midsummer Night's Dream Op 61 Iii Ye Spotted Snakes\">, <Record ArtistName='Frieder Bernius, Felix Mendelssohn, Stuttgart Chamber Orchestra, György Bognár, Rheinhard Werner, Kammerchor Stuttgart' TrackName=\"Verleih' uns Frieden\">, <Record ArtistName='Frieder Bernius, Felix Mendelssohn, Stuttgart Chamber Orchestra, György Bognár, Rheinhard Werner, Kammerchor Stuttgart' TrackName=\"Mendelssohn Midsummer Night's Dream Op 61 Iii Ye Spotted Snakes\">, <Record ArtistName='Frieder Bernius, Felix Mendelssohn, Stuttgart Chamber Orchestra, György Bognár, Rheinhard Werner, Kammerchor Stuttgart' TrackName=\"Verleih' uns Frieden\">, <Record ArtistName='Frieder Bernius, Felix Mendelssohn, Stuttgart Chamber Orchestra, György Bognár, Rheinhard Werner, Kammerchor Stuttgart' TrackName=\"Mendelssohn Midsummer Night's Dream Op 61 Iii Ye Spotted Snakes\">, <Record ArtistName='Frieder Bernius, Felix Mendelssohn, Stuttgart Chamber Orchestra, György Bognár, Rheinhard Werner, Kammerchor Stuttgart' TrackName=\"Verleih' uns Frieden\">, <Record ArtistName='Frieder Bernius, Felix Mendelssohn, Stuttgart Chamber Orchestra, György Bognár, Rheinhard Werner, Kammerchor Stuttgart' TrackName=\"Mendelssohn Midsummer Night's Dream Op 61 Iii Ye Spotted Snakes\">, <Record ArtistName='Frieder Bernius, Felix Mendelssohn, Stuttgart Chamber Orchestra, György Bognár, Rheinhard Werner, Kammerchor Stuttgart' TrackName=\"Verleih' uns Frieden\">, <Record ArtistName='Frieder Bernius, Felix Mendelssohn, Stuttgart Chamber Orchestra, György Bognár, Rheinhard Werner, Kammerchor Stuttgart' TrackName=\"Mendelssohn Midsummer Night's Dream Op 61 Iii Ye Spotted Snakes\">, <Record ArtistName='Frieder Bernius, Felix Mendelssohn, Stuttgart Chamber Orchestra, György Bognár, Rheinhard Werner, Kammerchor Stuttgart' TrackName=\"Verleih' uns Frieden\">, <Record ArtistName='Frieder Bernius, Felix Mendelssohn, Stuttgart Chamber Orchestra, György Bognár, Rheinhard Werner, Kammerchor Stuttgart' TrackName=\"Mendelssohn Midsummer Night's Dream Op 61 Iii Ye Spotted Snakes\">, <Record ArtistName='Frieder Bernius, Felix Mendelssohn, Stuttgart Chamber Orchestra, György Bognár, Rheinhard Werner, Kammerchor Stuttgart' TrackName=\"Verleih' uns Frieden\">, <Record ArtistName='Frieder Bernius, Felix Mendelssohn, Stuttgart Chamber Orchestra, György Bognár, Rheinhard Werner, Kammerchor Stuttgart' TrackName=\"Mendelssohn Midsummer Night's Dream Op 61 Iii Ye Spotted Snakes\">, <Record ArtistName='Frieder Bernius, Felix Mendelssohn, Stuttgart Chamber Orchestra, György Bognár, Rheinhard Werner, Kammerchor Stuttgart' TrackName=\"Verleih' uns Frieden\">, <Record ArtistName='Frieder Bernius, Felix Mendelssohn, Stuttgart Chamber Orchestra, György Bognár, Rheinhard Werner, Kammerchor Stuttgart' TrackName=\"Mendelssohn Midsummer Night's Dream Op 61 Iii Ye Spotted Snakes\">, <Record ArtistName='Frieder Bernius, Felix Mendelssohn, Stuttgart Chamber Orchestra, György Bognár, Rheinhard Werner, Kammerchor Stuttgart' TrackName=\"Verleih' uns Frieden\">, <Record ArtistName='Frieder Bernius, Felix Mendelssohn, Stuttgart Chamber Orchestra, György Bognár, Rheinhard Werner, Kammerchor Stuttgart' TrackName=\"Mendelssohn Midsummer Night's Dream Op 61 Iii Ye Spotted Snakes\">, <Record ArtistName='Frieder Bernius, Felix Mendelssohn, Stuttgart Chamber Orchestra, György Bognár, Rheinhard Werner, Kammerchor Stuttgart' TrackName=\"Verleih' uns Frieden\">, <Record ArtistName='Frieder Bernius, Felix Mendelssohn, Stuttgart Chamber Orchestra, György Bognár, Rheinhard Werner, Kammerchor Stuttgart' TrackName=\"Mendelssohn Midsummer Night's Dream Op 61 Iii Ye Spotted Snakes\">, <Record ArtistName='Frieder Bernius, Felix Mendelssohn, Stuttgart Chamber Orchestra, György Bognár, Rheinhard Werner, Kammerchor Stuttgart' TrackName=\"Verleih' uns Frieden\">, <Record ArtistName='Frieder Bernius, Felix Mendelssohn, Stuttgart Chamber Orchestra, György Bognár, Rheinhard Werner, Kammerchor Stuttgart' TrackName=\"Mendelssohn Midsummer Night's Dream Op 61 Iii Ye Spotted Snakes\">, <Record ArtistName='Frieder Bernius, Felix Mendelssohn, Stuttgart Chamber Orchestra, György Bognár, Rheinhard Werner, Kammerchor Stuttgart' TrackName=\"Verleih' uns Frieden\">]\n"
     ]
    }
   ],
   "source": [
    "q4_1_results = \"\"\"\n",
    "MATCH (artist:Artist)<-[:COMPOSED_BY]-(track:Track)\n",
    "WITH artist, COLLECT(track) AS tracks\n",
    "WHERE SIZE(tracks) > 1\n",
    "UNWIND tracks AS otherTrack\n",
    "RETURN artist.name AS ArtistName, otherTrack.name AS TrackName\n",
    "\n",
    "\"\"\"\n",
    "q4_1_results = execute_query(q4_1_results)\n",
    "print(\"Q Results:\", q4_1_results)"
   ]
  },
  {
   "cell_type": "markdown",
   "metadata": {},
   "source": [
    "![](../docs/images/Q4_1.png)"
   ]
  },
  {
   "cell_type": "markdown",
   "metadata": {},
   "source": [
    "Q4.2: Find tracks by artists similar based on shared genres"
   ]
  },
  {
   "cell_type": "code",
   "execution_count": 9,
   "metadata": {},
   "outputs": [
    {
     "name": "stdout",
     "output_type": "stream",
     "text": [
      "Q Results: [<Record SimilarArtistName='John Hartford' SimilarTrackNames=['Boogie']>, <Record SimilarArtistName='Greg Brown' SimilarTrackNames=['Canned Goods']>, <Record SimilarArtistName='Kim Richey' SimilarTrackNames=[\"I'm Alright\"]>, <Record SimilarArtistName='Bobby Helms' SimilarTrackNames=[\"I Don't Owe You Nothing\"]>, <Record SimilarArtistName='Randy Travis' SimilarTrackNames=['King Of The Road']>, <Record SimilarArtistName='Dan Hicks & His Hot Licks' SimilarTrackNames=[\"I Don't Want Love\"]>, <Record SimilarArtistName='The National' SimilarTrackNames=['Conversation 16']>, <Record SimilarArtistName='The Long Ryders' SimilarTrackNames=['I Had a Dream']>, <Record SimilarArtistName='Jake Blount' SimilarTrackNames=['Done Gone']>, <Record SimilarArtistName='Slim Dusty' SimilarTrackNames=['Natural High']>, <Record SimilarArtistName='Mitchell Kersley' SimilarTrackNames=[\"I Only Cry When I'm Drinking\"]>, <Record SimilarArtistName='Willie Nelson/Merle Haggard' SimilarTrackNames=['Pancho And Lefty', 'Pancho And Lefty']>]\n"
     ]
    }
   ],
   "source": [
    "q4_2_results = \"\"\"\n",
    "MATCH (originalTrack:Track {name: 'Highway Junkie'})-[:HAS_GENRE]->(genre:Genre)<-[:HAS_GENRE]-(similarTrack:Track),\n",
    "      (similarTrack)-[:COMPOSED_BY]->(similarArtist:Artist)\n",
    "WHERE originalTrack.name <> similarTrack.name\n",
    "RETURN similarArtist.name AS SimilarArtistName, COLLECT(similarTrack.name) AS SimilarTrackNames\n",
    "\"\"\"\n",
    "q4_2_results = execute_query(q4_2_results)\n",
    "print(\"Q Results:\", q4_2_results)"
   ]
  },
  {
   "cell_type": "markdown",
   "metadata": {},
   "source": [
    "![](../docs/images/Q4_2.png)"
   ]
  },
  {
   "cell_type": "markdown",
   "metadata": {},
   "source": [
    "## Q4_A Given a Track, find related Artists - 1st Level Traversal"
   ]
  },
  {
   "cell_type": "code",
   "execution_count": 12,
   "metadata": {},
   "outputs": [
    {
     "name": "stdout",
     "output_type": "stream",
     "text": [
      "Q Results: [<Record track.name='Night Time Is the Right Time' ArtistSpotifyID='1eYhYunlNJlDoQhtYBvPsi' SimilarArtistSpotifyIDs=['7guDJrEfX3qb6FEbdPA5qi', '5V0MlUE1Bft0mbLlND7FJz', '4y6J8jwRAwO4dssiSmN91R'] SimilarTracks=['What A Wonderful World', \"I Can't Get Started\", \"(I'm Your) Hoochie Coochie Man\"]>]\n"
     ]
    }
   ],
   "source": [
    "q4_A_results = \"\"\"\n",
    "MATCH (track:Track {name: \"Night Time Is the Right Time\"})-[:COMPOSED_BY]->(artist:Artist)\n",
    "WITH artist, track\n",
    "MATCH (artist)-[:RELATED_TO]->(related:Artist)<-[:COMPOSED_BY]-(relatedTrack:Track)\n",
    "RETURN track.name, artist.spotifyId AS ArtistSpotifyID, collect(related.spotifyId) AS SimilarArtistSpotifyIDs, collect(relatedTrack.name) AS SimilarTracks\n",
    "\"\"\"\n",
    "q4_A_results = execute_query(q4_A_results)\n",
    "print(\"Q Results:\", q4_A_results)"
   ]
  },
  {
   "cell_type": "markdown",
   "metadata": {},
   "source": [
    "## Q4_B Given a Track, find related Artists - Second Level Traversal"
   ]
  },
  {
   "cell_type": "code",
   "execution_count": 13,
   "metadata": {},
   "outputs": [
    {
     "name": "stdout",
     "output_type": "stream",
     "text": [
      "Q Results: [<Record track.name='Night Time Is the Right Time' ArtistSpotifyID='1eYhYunlNJlDoQhtYBvPsi' SimilarArtistSpotifyIDs=['0Wxy5Qka8BN9crcFkiAxSR', '3koiLjNrgRTNbOwViDipeA'] SimilarTracks=['Three Hundred Pounds Of Joy', 'Change What You Can']>]\n"
     ]
    }
   ],
   "source": [
    "q4_B_results = \"\"\"\n",
    "MATCH (track:Track {name: \"Night Time Is the Right Time\"})-[:COMPOSED_BY]->(artist:Artist)\n",
    "WITH artist, track\n",
    "MATCH (artist)-[:RELATED_TO*2..2]->(related:Artist)<-[:COMPOSED_BY]-(relatedTrack:Track)\n",
    "RETURN track.name, artist.spotifyId AS ArtistSpotifyID, collect(related.spotifyId) AS SimilarArtistSpotifyIDs, collect(relatedTrack.name) AS SimilarTracks\n",
    "\"\"\"\n",
    "q4_B_results = execute_query(q4_B_results)\n",
    "print(\"Q Results:\", q4_B_results)"
   ]
  },
  {
   "cell_type": "code",
   "execution_count": 14,
   "metadata": {},
   "outputs": [
    {
     "name": "stdout",
     "output_type": "stream",
     "text": [
      "Q Results: [<Record RadioName='Outlaw Country'>, <Record RadioName='WHOM 94.9 HOM'>]\n"
     ]
    }
   ],
   "source": [
    "#Q5: Given a set of tracks, return radios\n",
    "q5_query = \"\"\"\n",
    "MATCH (track:Track)-[:PLAYS]-(radio:Radio)\n",
    "WHERE track.name IN ['No Goodbyes', 'Around the World in 80 Days']\n",
    "RETURN DISTINCT radio.name AS RadioName\n",
    "\n",
    "\"\"\"\n",
    "q5_results = execute_query(q5_query)\n",
    "print(\"Q Results:\", q5_results)"
   ]
  },
  {
   "cell_type": "markdown",
   "metadata": {},
   "source": [
    "![](../docs/images/Q5.png)"
   ]
  },
  {
   "cell_type": "code",
   "execution_count": null,
   "metadata": {},
   "outputs": [],
   "source": [
    "# Close the connection\n",
    "driver.close()"
   ]
  },
  {
   "cell_type": "markdown",
   "metadata": {},
   "source": [
    "#### Additional Queries"
   ]
  },
  {
   "cell_type": "markdown",
   "metadata": {},
   "source": [
    "\n",
    "##### To find other artists who have tracks in the same genres as a given set of tracks:\n",
    "\n",
    "```sql\n",
    "MATCH (track:Track)-[:HAS_GENRE]->(genre:Genre)<-[:HAS_GENRE]-(otherTrack:Track)\n",
    "WHERE track.name IN ['Natural High', 'I Had a Dream'] AND track.name <> otherTrack.name\n",
    "WITH DISTINCT genre, otherTrack\n",
    "MATCH (otherTrack)-[:COMPOSED_BY]->(otherArtist:Artist)\n",
    "RETURN genre.name AS GenreName, otherArtist.name AS OtherArtistName, COLLECT(otherTrack.name) AS OtherTracks\n",
    "```\n",
    "\n",
    "![](../docs/images/Q6.png)\n"
   ]
  },
  {
   "cell_type": "markdown",
   "metadata": {},
   "source": [
    "##### To recommend tracks for a radio based on the genre:\n",
    "```sql\n",
    "MATCH (radio:Radio)-[:PLAYS]->(track:Track)-[:HAS_GENRE]->(genre:Genre)\n",
    "WHERE radio.name = 'bigFM Balkan'\n",
    "WITH genre\n",
    "MATCH (genre)<-[:HAS_GENRE]-(recommendedTrack:Track)\n",
    "RETURN genre.name AS GenreName, COLLECT(recommendedTrack.name) AS RecommendedTracks\n",
    "```\n",
    "![](../docs/images/Q7.png)"
   ]
  },
  {
   "cell_type": "markdown",
   "metadata": {},
   "source": [
    "_Based on Album, Genre, there can be more....._"
   ]
  }
 ],
 "metadata": {
  "kernelspec": {
   "display_name": "mytestvenv",
   "language": "python",
   "name": "mytestvenv"
  },
  "language_info": {
   "codemirror_mode": {
    "name": "ipython",
    "version": 3
   },
   "file_extension": ".py",
   "mimetype": "text/x-python",
   "name": "python",
   "nbconvert_exporter": "python",
   "pygments_lexer": "ipython3",
   "version": "3.9.18"
  }
 },
 "nbformat": 4,
 "nbformat_minor": 2
}
